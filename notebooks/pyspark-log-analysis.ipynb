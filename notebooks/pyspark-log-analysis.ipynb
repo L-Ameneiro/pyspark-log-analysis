{
 "cells": [
  {
   "cell_type": "code",
   "execution_count": 1,
   "id": "545289b7",
   "metadata": {},
   "outputs": [
    {
     "name": "stderr",
     "output_type": "stream",
     "text": [
      "WARNING: Using incubator modules: jdk.incubator.vector\n",
      "Using Spark's default log4j profile: org/apache/spark/log4j2-defaults.properties\n",
      "Setting default log level to \"WARN\".\n",
      "To adjust logging level use sc.setLogLevel(newLevel). For SparkR, use setLogLevel(newLevel).\n",
      "25/09/13 12:23:40 WARN NativeCodeLoader: Unable to load native-hadoop library for your platform... using builtin-java classes where applicable\n",
      "25/09/13 12:23:42 WARN Utils: Service 'SparkUI' could not bind on port 4040. Attempting port 4041.\n"
     ]
    }
   ],
   "source": [
    "from pyspark.sql import SparkSession\n",
    "\n",
    "spark = SparkSession.builder \\\n",
    "    .appName(\"LogAnalysis\") \\\n",
    "    .getOrCreate()\n",
    "\n",
    "spark.sparkContext.setLogLevel(\"ERROR\")\n"
   ]
  },
  {
   "cell_type": "markdown",
   "id": "a1867158",
   "metadata": {},
   "source": [
    "## Generar logs sintéticos"
   ]
  },
  {
   "cell_type": "code",
   "execution_count": 2,
   "id": "266f5996",
   "metadata": {},
   "outputs": [
    {
     "ename": "ModuleNotFoundError",
     "evalue": "No module named 'src'",
     "output_type": "error",
     "traceback": [
      "\u001b[31m---------------------------------------------------------------------------\u001b[39m",
      "\u001b[31mModuleNotFoundError\u001b[39m                       Traceback (most recent call last)",
      "\u001b[36mCell\u001b[39m\u001b[36m \u001b[39m\u001b[32mIn[2]\u001b[39m\u001b[32m, line 1\u001b[39m\n\u001b[32m----> \u001b[39m\u001b[32m1\u001b[39m \u001b[38;5;28;01mfrom\u001b[39;00m\u001b[38;5;250m \u001b[39m\u001b[34;01msrc\u001b[39;00m\u001b[34;01m.\u001b[39;00m\u001b[34;01mlog_generator\u001b[39;00m\u001b[38;5;250m \u001b[39m\u001b[38;5;28;01mimport\u001b[39;00m generate_logs\n\u001b[32m      3\u001b[39m \u001b[38;5;66;03m# Número de filas a generar (lo podés cambiar y volver a correr)\u001b[39;00m\n\u001b[32m      4\u001b[39m n_rows = \u001b[32m500000\u001b[39m  \n",
      "\u001b[31mModuleNotFoundError\u001b[39m: No module named 'src'"
     ]
    }
   ],
   "source": [
    "from src.log_generator import generate_logs\n",
    "\n",
    "# Número de filas a generar (lo podés cambiar y volver a correr)\n",
    "n_rows = 500000  \n",
    "output_file = \"../data/synthetic_logs.log\"\n",
    "\n",
    "generate_logs(n_rows, output_file)\n"
   ]
  },
  {
   "cell_type": "markdown",
   "id": "bcdb6835",
   "metadata": {},
   "source": [
    "## Leer y parsear los logs"
   ]
  },
  {
   "cell_type": "code",
   "execution_count": null,
   "id": "b11c58bf",
   "metadata": {},
   "outputs": [],
   "source": [
    "raw_logs = spark.read.text(\"../data/synthetic_logs.log\")\n",
    "raw_logs.show(5, truncate=False)\n"
   ]
  },
  {
   "cell_type": "code",
   "execution_count": null,
   "id": "510bf450",
   "metadata": {},
   "outputs": [],
   "source": [
    "from pyspark.sql.functions import regexp_extract\n",
    "\n",
    "log_df = raw_logs.select(\n",
    "    regexp_extract(\"value\", r'^(\\S+)', 1).alias(\"ip\"),\n",
    "    regexp_extract(\"value\", r'\\[(.*?)\\]', 1).alias(\"timestamp\"),\n",
    "    regexp_extract(\"value\", r'\\\"(GET|POST) (.*?) HTTP.*\\\"', 2).alias(\"url\"),\n",
    "    regexp_extract(\"value\", r'\\\" (GET|POST) (.*?) HTTP.*\\\"', 1).alias(\"method\"),\n",
    "    regexp_extract(\"value\", r'\\\".*\\\" (\\d{3})', 1).cast(\"int\").alias(\"status\"),\n",
    "    regexp_extract(\"value\", r'\\\".*\\\" \\d{3} (\\d+)', 1).cast(\"int\").alias(\"bytes\")\n",
    ")\n",
    "\n",
    "log_df.show(5, truncate=False)\n"
   ]
  },
  {
   "cell_type": "markdown",
   "id": "599f4d76",
   "metadata": {},
   "source": [
    "### Procesamiento de timestamp, fecha y hora"
   ]
  },
  {
   "cell_type": "code",
   "execution_count": null,
   "id": "9d5fd613",
   "metadata": {},
   "outputs": [],
   "source": [
    "from pyspark.sql.functions import to_timestamp\n",
    "\n",
    "log_df = log_df.withColumn(\n",
    "    \"datetime\",\n",
    "    to_timestamp(\"timestamp\", \"dd/MMM/yyyy:HH:mm:ss\")\n",
    ")\n"
   ]
  },
  {
   "cell_type": "code",
   "execution_count": null,
   "id": "a1855497",
   "metadata": {},
   "outputs": [],
   "source": [
    "from pyspark.sql.functions import hour, date_format\n",
    "\n",
    "log_df = log_df.withColumn(\"hour\", hour(\"datetime\"))\n",
    "log_df = log_df.withColumn(\"date\", date_format(\"datetime\", \"yyyy-MM-dd\"))\n"
   ]
  },
  {
   "cell_type": "markdown",
   "id": "ac57fff5",
   "metadata": {},
   "source": [
    "## Análisis exploratorio básico"
   ]
  },
  {
   "cell_type": "code",
   "execution_count": null,
   "id": "4e74ac1d",
   "metadata": {},
   "outputs": [],
   "source": []
  }
 ],
 "metadata": {
  "kernelspec": {
   "display_name": ".venv",
   "language": "python",
   "name": "python3"
  },
  "language_info": {
   "codemirror_mode": {
    "name": "ipython",
    "version": 3
   },
   "file_extension": ".py",
   "mimetype": "text/x-python",
   "name": "python",
   "nbconvert_exporter": "python",
   "pygments_lexer": "ipython3",
   "version": "3.12.3"
  }
 },
 "nbformat": 4,
 "nbformat_minor": 5
}
